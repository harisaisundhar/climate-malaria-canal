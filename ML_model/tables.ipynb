{
 "metadata": {
  "language_info": {
   "codemirror_mode": {
    "name": "ipython",
    "version": 3
   },
   "file_extension": ".py",
   "mimetype": "text/x-python",
   "name": "python",
   "nbconvert_exporter": "python",
   "pygments_lexer": "ipython3",
   "version": "3.9.1"
  },
  "orig_nbformat": 2,
  "kernelspec": {
   "name": "python391jvsc74a57bd0ac2eaa0ea0ebeafcc7822e65e46aa9d4f966f30b695406963e145ea4a91cd4fc",
   "display_name": "Python 3.9.1 64-bit"
  },
  "metadata": {
   "interpreter": {
    "hash": "ac2eaa0ea0ebeafcc7822e65e46aa9d4f966f30b695406963e145ea4a91cd4fc"
   }
  }
 },
 "nbformat": 4,
 "nbformat_minor": 2,
 "cells": [
  {
   "cell_type": "code",
   "execution_count": 2,
   "metadata": {},
   "outputs": [
    {
     "output_type": "execute_result",
     "data": {
      "text/plain": [
       "   Year         AQI        CO       Temp   Humidity  Precipitation  \\\n",
       "0  2015  127.690608  0.748287  26.819635  51.720091       0.039897   \n",
       "1  2014  121.851093  0.821107  26.253301  54.376480       0.045048   \n",
       "2  2013  112.439726  0.254301  27.177968  47.469749       0.041450   \n",
       "3  2012   97.556164  0.621726  27.814384  47.174087       0.047454   \n",
       "4  2011   93.980822  0.570110  28.015639  55.852740       0.235377   \n",
       "\n",
       "   Population  Malaria_Cases  Malaria_Death  Dengue_Cases  Kalaazar_Cases  \\\n",
       "0    52618984          25152              3           805               4   \n",
       "1    51841364          33393             20           910               0   \n",
       "2    51075235          34949              5          2299               7   \n",
       "3    50320429          24699              2          1209               0   \n",
       "4    49576777          13351              0           776               1   \n",
       "\n",
       "   Rainfall  Malaria_Incidence  \n",
       "0     857.3          47.800239  \n",
       "1     746.4          64.413814  \n",
       "2    1348.5          68.426508  \n",
       "3    1008.6          49.083445  \n",
       "4     753.1          26.929947  "
      ],
      "text/html": "<div>\n<style scoped>\n    .dataframe tbody tr th:only-of-type {\n        vertical-align: middle;\n    }\n\n    .dataframe tbody tr th {\n        vertical-align: top;\n    }\n\n    .dataframe thead th {\n        text-align: right;\n    }\n</style>\n<table border=\"1\" class=\"dataframe\">\n  <thead>\n    <tr style=\"text-align: right;\">\n      <th></th>\n      <th>Year</th>\n      <th>AQI</th>\n      <th>CO</th>\n      <th>Temp</th>\n      <th>Humidity</th>\n      <th>Precipitation</th>\n      <th>Population</th>\n      <th>Malaria_Cases</th>\n      <th>Malaria_Death</th>\n      <th>Dengue_Cases</th>\n      <th>Kalaazar_Cases</th>\n      <th>Rainfall</th>\n      <th>Malaria_Incidence</th>\n    </tr>\n  </thead>\n  <tbody>\n    <tr>\n      <th>0</th>\n      <td>2015</td>\n      <td>127.690608</td>\n      <td>0.748287</td>\n      <td>26.819635</td>\n      <td>51.720091</td>\n      <td>0.039897</td>\n      <td>52618984</td>\n      <td>25152</td>\n      <td>3</td>\n      <td>805</td>\n      <td>4</td>\n      <td>857.3</td>\n      <td>47.800239</td>\n    </tr>\n    <tr>\n      <th>1</th>\n      <td>2014</td>\n      <td>121.851093</td>\n      <td>0.821107</td>\n      <td>26.253301</td>\n      <td>54.376480</td>\n      <td>0.045048</td>\n      <td>51841364</td>\n      <td>33393</td>\n      <td>20</td>\n      <td>910</td>\n      <td>0</td>\n      <td>746.4</td>\n      <td>64.413814</td>\n    </tr>\n    <tr>\n      <th>2</th>\n      <td>2013</td>\n      <td>112.439726</td>\n      <td>0.254301</td>\n      <td>27.177968</td>\n      <td>47.469749</td>\n      <td>0.041450</td>\n      <td>51075235</td>\n      <td>34949</td>\n      <td>5</td>\n      <td>2299</td>\n      <td>7</td>\n      <td>1348.5</td>\n      <td>68.426508</td>\n    </tr>\n    <tr>\n      <th>3</th>\n      <td>2012</td>\n      <td>97.556164</td>\n      <td>0.621726</td>\n      <td>27.814384</td>\n      <td>47.174087</td>\n      <td>0.047454</td>\n      <td>50320429</td>\n      <td>24699</td>\n      <td>2</td>\n      <td>1209</td>\n      <td>0</td>\n      <td>1008.6</td>\n      <td>49.083445</td>\n    </tr>\n    <tr>\n      <th>4</th>\n      <td>2011</td>\n      <td>93.980822</td>\n      <td>0.570110</td>\n      <td>28.015639</td>\n      <td>55.852740</td>\n      <td>0.235377</td>\n      <td>49576777</td>\n      <td>13351</td>\n      <td>0</td>\n      <td>776</td>\n      <td>1</td>\n      <td>753.1</td>\n      <td>26.929947</td>\n    </tr>\n  </tbody>\n</table>\n</div>"
     },
     "metadata": {},
     "execution_count": 2
    }
   ],
   "source": [
    "import pandas as pd\n",
    "and_data = pd.read_csv('ANDHRA_PD.csv')\n",
    "and_data.head()"
   ]
  },
  {
   "cell_type": "code",
   "execution_count": 3,
   "metadata": {},
   "outputs": [
    {
     "output_type": "execute_result",
     "data": {
      "text/plain": [
       "   Year         AQI        CO       Temp   Humidity  Precipitation  \\\n",
       "0  2015  127.690608  0.748287  26.819635  51.720091       0.039897   \n",
       "1  2014  121.851093  0.821107  26.253301  54.376480       0.045048   \n",
       "2  2013  112.439726  0.254301  27.177968  47.469749       0.041450   \n",
       "3  2012   97.556164  0.621726  27.814384  47.174087       0.047454   \n",
       "4  2011   93.980822  0.570110  28.015639  55.852740       0.235377   \n",
       "\n",
       "   Population  Malaria_Cases  Malaria_Death  Dengue_Cases  Kalaazar_Cases  \\\n",
       "0    52618984          25152              3           805               4   \n",
       "1    51841364          33393             20           910               0   \n",
       "2    51075235          34949              5          2299               7   \n",
       "3    50320429          24699              2          1209               0   \n",
       "4    49576777          13351              0           776               1   \n",
       "\n",
       "   Rainfall  Malaria_Incidence  \n",
       "0     857.3          47.800239  \n",
       "1     746.4          64.413814  \n",
       "2    1348.5          68.426508  \n",
       "3    1008.6          49.083445  \n",
       "4     753.1          26.929947  "
      ],
      "text/html": "<div>\n<style scoped>\n    .dataframe tbody tr th:only-of-type {\n        vertical-align: middle;\n    }\n\n    .dataframe tbody tr th {\n        vertical-align: top;\n    }\n\n    .dataframe thead th {\n        text-align: right;\n    }\n</style>\n<table border=\"1\" class=\"dataframe\">\n  <thead>\n    <tr style=\"text-align: right;\">\n      <th></th>\n      <th>Year</th>\n      <th>AQI</th>\n      <th>CO</th>\n      <th>Temp</th>\n      <th>Humidity</th>\n      <th>Precipitation</th>\n      <th>Population</th>\n      <th>Malaria_Cases</th>\n      <th>Malaria_Death</th>\n      <th>Dengue_Cases</th>\n      <th>Kalaazar_Cases</th>\n      <th>Rainfall</th>\n      <th>Malaria_Incidence</th>\n    </tr>\n  </thead>\n  <tbody>\n    <tr>\n      <th>0</th>\n      <td>2015</td>\n      <td>127.690608</td>\n      <td>0.748287</td>\n      <td>26.819635</td>\n      <td>51.720091</td>\n      <td>0.039897</td>\n      <td>52618984</td>\n      <td>25152</td>\n      <td>3</td>\n      <td>805</td>\n      <td>4</td>\n      <td>857.3</td>\n      <td>47.800239</td>\n    </tr>\n    <tr>\n      <th>1</th>\n      <td>2014</td>\n      <td>121.851093</td>\n      <td>0.821107</td>\n      <td>26.253301</td>\n      <td>54.376480</td>\n      <td>0.045048</td>\n      <td>51841364</td>\n      <td>33393</td>\n      <td>20</td>\n      <td>910</td>\n      <td>0</td>\n      <td>746.4</td>\n      <td>64.413814</td>\n    </tr>\n    <tr>\n      <th>2</th>\n      <td>2013</td>\n      <td>112.439726</td>\n      <td>0.254301</td>\n      <td>27.177968</td>\n      <td>47.469749</td>\n      <td>0.041450</td>\n      <td>51075235</td>\n      <td>34949</td>\n      <td>5</td>\n      <td>2299</td>\n      <td>7</td>\n      <td>1348.5</td>\n      <td>68.426508</td>\n    </tr>\n    <tr>\n      <th>3</th>\n      <td>2012</td>\n      <td>97.556164</td>\n      <td>0.621726</td>\n      <td>27.814384</td>\n      <td>47.174087</td>\n      <td>0.047454</td>\n      <td>50320429</td>\n      <td>24699</td>\n      <td>2</td>\n      <td>1209</td>\n      <td>0</td>\n      <td>1008.6</td>\n      <td>49.083445</td>\n    </tr>\n    <tr>\n      <th>4</th>\n      <td>2011</td>\n      <td>93.980822</td>\n      <td>0.570110</td>\n      <td>28.015639</td>\n      <td>55.852740</td>\n      <td>0.235377</td>\n      <td>49576777</td>\n      <td>13351</td>\n      <td>0</td>\n      <td>776</td>\n      <td>1</td>\n      <td>753.1</td>\n      <td>26.929947</td>\n    </tr>\n  </tbody>\n</table>\n</div>"
     },
     "metadata": {},
     "execution_count": 3
    }
   ],
   "source": [
    "delhi_data = pd.read_csv('ANDHRA_PD.csv')\n",
    "delhi_data.head()"
   ]
  },
  {
   "cell_type": "code",
   "execution_count": 5,
   "metadata": {},
   "outputs": [
    {
     "output_type": "execute_result",
     "data": {
      "text/plain": [
       "   Year         AQI        CO       Temp   Humidity  Precipitation  \\\n",
       "0  2015  106.497260  5.482808  23.849087  65.878425       0.061587   \n",
       "1  2014  104.532787  1.301858  23.949226  63.342668       0.050979   \n",
       "2  2013   87.149315  1.052904  24.145434  63.423059       0.081233   \n",
       "3  2012   86.419178  0.945671  24.631050  60.087557       0.074178   \n",
       "4  2011   91.602740  0.901753  25.017466  62.811986       0.226941   \n",
       "\n",
       "   Population  Malaria_Cases  Malaria_Death  Dengue_Cases  Kalaazar_Cases  \\\n",
       "0    64844321          36859              0          2842             354   \n",
       "1    63886031          44319             11          6408             595   \n",
       "2    62941902          24237              0          3924             995   \n",
       "3    62011726          16466              0           405            1962   \n",
       "4    61095297          10170              5          2285            1482   \n",
       "\n",
       "   Rainfall  Malaria_Incidence  \n",
       "0    1112.5          56.842295  \n",
       "1    1184.2          69.371973  \n",
       "2    1110.7          38.506939  \n",
       "3     877.8          26.553043  \n",
       "4    1087.2          16.646126  "
      ],
      "text/html": "<div>\n<style scoped>\n    .dataframe tbody tr th:only-of-type {\n        vertical-align: middle;\n    }\n\n    .dataframe tbody tr th {\n        vertical-align: top;\n    }\n\n    .dataframe thead th {\n        text-align: right;\n    }\n</style>\n<table border=\"1\" class=\"dataframe\">\n  <thead>\n    <tr style=\"text-align: right;\">\n      <th></th>\n      <th>Year</th>\n      <th>AQI</th>\n      <th>CO</th>\n      <th>Temp</th>\n      <th>Humidity</th>\n      <th>Precipitation</th>\n      <th>Population</th>\n      <th>Malaria_Cases</th>\n      <th>Malaria_Death</th>\n      <th>Dengue_Cases</th>\n      <th>Kalaazar_Cases</th>\n      <th>Rainfall</th>\n      <th>Malaria_Incidence</th>\n    </tr>\n  </thead>\n  <tbody>\n    <tr>\n      <th>0</th>\n      <td>2015</td>\n      <td>106.497260</td>\n      <td>5.482808</td>\n      <td>23.849087</td>\n      <td>65.878425</td>\n      <td>0.061587</td>\n      <td>64844321</td>\n      <td>36859</td>\n      <td>0</td>\n      <td>2842</td>\n      <td>354</td>\n      <td>1112.5</td>\n      <td>56.842295</td>\n    </tr>\n    <tr>\n      <th>1</th>\n      <td>2014</td>\n      <td>104.532787</td>\n      <td>1.301858</td>\n      <td>23.949226</td>\n      <td>63.342668</td>\n      <td>0.050979</td>\n      <td>63886031</td>\n      <td>44319</td>\n      <td>11</td>\n      <td>6408</td>\n      <td>595</td>\n      <td>1184.2</td>\n      <td>69.371973</td>\n    </tr>\n    <tr>\n      <th>2</th>\n      <td>2013</td>\n      <td>87.149315</td>\n      <td>1.052904</td>\n      <td>24.145434</td>\n      <td>63.423059</td>\n      <td>0.081233</td>\n      <td>62941902</td>\n      <td>24237</td>\n      <td>0</td>\n      <td>3924</td>\n      <td>995</td>\n      <td>1110.7</td>\n      <td>38.506939</td>\n    </tr>\n    <tr>\n      <th>3</th>\n      <td>2012</td>\n      <td>86.419178</td>\n      <td>0.945671</td>\n      <td>24.631050</td>\n      <td>60.087557</td>\n      <td>0.074178</td>\n      <td>62011726</td>\n      <td>16466</td>\n      <td>0</td>\n      <td>405</td>\n      <td>1962</td>\n      <td>877.8</td>\n      <td>26.553043</td>\n    </tr>\n    <tr>\n      <th>4</th>\n      <td>2011</td>\n      <td>91.602740</td>\n      <td>0.901753</td>\n      <td>25.017466</td>\n      <td>62.811986</td>\n      <td>0.226941</td>\n      <td>61095297</td>\n      <td>10170</td>\n      <td>5</td>\n      <td>2285</td>\n      <td>1482</td>\n      <td>1087.2</td>\n      <td>16.646126</td>\n    </tr>\n  </tbody>\n</table>\n</div>"
     },
     "metadata": {},
     "execution_count": 5
    }
   ],
   "source": [
    "kar_data = pd.read_csv('KARNATAKA.csv')\n",
    "kar_data.head()"
   ]
  },
  {
   "cell_type": "code",
   "execution_count": 6,
   "metadata": {},
   "outputs": [
    {
     "output_type": "execute_result",
     "data": {
      "text/plain": [
       "   Year         AQI       CO       Temp   Humidity  Precipitation  Population  \\\n",
       "0  2015   75.551104  0.00000  27.694406  66.351484       0.115354   119270021   \n",
       "1  2014   74.654538  0.00000  27.136043  67.408698       0.181432   117507410   \n",
       "2  2013   73.757972  0.00000  27.697374  66.217580       0.125240   115770847   \n",
       "3  2012   92.953771  1.57526  28.235616  64.683219       0.083447   114059948   \n",
       "4  2011  107.950685  1.27174  28.382763  67.288242       0.346090   112374333   \n",
       "\n",
       "   Malaria_Cases  Malaria_Death  Dengue_Cases  Kalaazar_Cases  Rainfall  \\\n",
       "0          93818             58          6485               0     644.5   \n",
       "1         139198             96          5610               0     838.0   \n",
       "2          96577            118          2931               0     836.0   \n",
       "3          58517            200          1138               0     689.8   \n",
       "4          37068            227          1485               0     852.6   \n",
       "\n",
       "   Malaria_Incidence  \n",
       "0          78.660169  \n",
       "1         118.458912  \n",
       "2          83.420829  \n",
       "3          51.303723  \n",
       "4          32.986180  "
      ],
      "text/html": "<div>\n<style scoped>\n    .dataframe tbody tr th:only-of-type {\n        vertical-align: middle;\n    }\n\n    .dataframe tbody tr th {\n        vertical-align: top;\n    }\n\n    .dataframe thead th {\n        text-align: right;\n    }\n</style>\n<table border=\"1\" class=\"dataframe\">\n  <thead>\n    <tr style=\"text-align: right;\">\n      <th></th>\n      <th>Year</th>\n      <th>AQI</th>\n      <th>CO</th>\n      <th>Temp</th>\n      <th>Humidity</th>\n      <th>Precipitation</th>\n      <th>Population</th>\n      <th>Malaria_Cases</th>\n      <th>Malaria_Death</th>\n      <th>Dengue_Cases</th>\n      <th>Kalaazar_Cases</th>\n      <th>Rainfall</th>\n      <th>Malaria_Incidence</th>\n    </tr>\n  </thead>\n  <tbody>\n    <tr>\n      <th>0</th>\n      <td>2015</td>\n      <td>75.551104</td>\n      <td>0.00000</td>\n      <td>27.694406</td>\n      <td>66.351484</td>\n      <td>0.115354</td>\n      <td>119270021</td>\n      <td>93818</td>\n      <td>58</td>\n      <td>6485</td>\n      <td>0</td>\n      <td>644.5</td>\n      <td>78.660169</td>\n    </tr>\n    <tr>\n      <th>1</th>\n      <td>2014</td>\n      <td>74.654538</td>\n      <td>0.00000</td>\n      <td>27.136043</td>\n      <td>67.408698</td>\n      <td>0.181432</td>\n      <td>117507410</td>\n      <td>139198</td>\n      <td>96</td>\n      <td>5610</td>\n      <td>0</td>\n      <td>838.0</td>\n      <td>118.458912</td>\n    </tr>\n    <tr>\n      <th>2</th>\n      <td>2013</td>\n      <td>73.757972</td>\n      <td>0.00000</td>\n      <td>27.697374</td>\n      <td>66.217580</td>\n      <td>0.125240</td>\n      <td>115770847</td>\n      <td>96577</td>\n      <td>118</td>\n      <td>2931</td>\n      <td>0</td>\n      <td>836.0</td>\n      <td>83.420829</td>\n    </tr>\n    <tr>\n      <th>3</th>\n      <td>2012</td>\n      <td>92.953771</td>\n      <td>1.57526</td>\n      <td>28.235616</td>\n      <td>64.683219</td>\n      <td>0.083447</td>\n      <td>114059948</td>\n      <td>58517</td>\n      <td>200</td>\n      <td>1138</td>\n      <td>0</td>\n      <td>689.8</td>\n      <td>51.303723</td>\n    </tr>\n    <tr>\n      <th>4</th>\n      <td>2011</td>\n      <td>107.950685</td>\n      <td>1.27174</td>\n      <td>28.382763</td>\n      <td>67.288242</td>\n      <td>0.346090</td>\n      <td>112374333</td>\n      <td>37068</td>\n      <td>227</td>\n      <td>1485</td>\n      <td>0</td>\n      <td>852.6</td>\n      <td>32.986180</td>\n    </tr>\n  </tbody>\n</table>\n</div>"
     },
     "metadata": {},
     "execution_count": 6
    }
   ],
   "source": [
    "mah_data = pd.read_csv('MAHARASHTRA.csv')\n",
    "mah_data.head()"
   ]
  },
  {
   "cell_type": "code",
   "execution_count": 8,
   "metadata": {},
   "outputs": [
    {
     "output_type": "execute_result",
     "data": {
      "text/plain": [
       "   Year         AQI        CO       Temp   Humidity  Precipitation  \\\n",
       "0  2015  161.479452  2.380151  24.734703  55.760274       0.048790   \n",
       "1  2014  136.199454  1.129003  24.312500  57.611758       0.054474   \n",
       "2  2013  104.343836  0.220877  24.746918  57.843579       0.060502   \n",
       "3  2012  105.490411  0.870411  25.424886  56.199429       0.055639   \n",
       "4  2011  102.942466  0.864027  26.176256  53.920776       0.204041   \n",
       "\n",
       "   Population  Malaria_Cases  Malaria_Death  Dengue_Cases  Kalaazar_Cases  \\\n",
       "0    76574228          14988              0          2074               1   \n",
       "1    75442589          17086              0          6122               4   \n",
       "2    74327674          22171              0         12826               6   \n",
       "3    73229235          18869              3          2501               5   \n",
       "4    72147030          13075              1          2051              12   \n",
       "\n",
       "   Rainfall  Malaria_Incidence  \n",
       "0    1204.6          19.573165  \n",
       "1     913.0          22.647685  \n",
       "2     741.9          29.828728  \n",
       "3     636.1          25.767031  \n",
       "4     926.5          18.122714  "
      ],
      "text/html": "<div>\n<style scoped>\n    .dataframe tbody tr th:only-of-type {\n        vertical-align: middle;\n    }\n\n    .dataframe tbody tr th {\n        vertical-align: top;\n    }\n\n    .dataframe thead th {\n        text-align: right;\n    }\n</style>\n<table border=\"1\" class=\"dataframe\">\n  <thead>\n    <tr style=\"text-align: right;\">\n      <th></th>\n      <th>Year</th>\n      <th>AQI</th>\n      <th>CO</th>\n      <th>Temp</th>\n      <th>Humidity</th>\n      <th>Precipitation</th>\n      <th>Population</th>\n      <th>Malaria_Cases</th>\n      <th>Malaria_Death</th>\n      <th>Dengue_Cases</th>\n      <th>Kalaazar_Cases</th>\n      <th>Rainfall</th>\n      <th>Malaria_Incidence</th>\n    </tr>\n  </thead>\n  <tbody>\n    <tr>\n      <th>0</th>\n      <td>2015</td>\n      <td>161.479452</td>\n      <td>2.380151</td>\n      <td>24.734703</td>\n      <td>55.760274</td>\n      <td>0.048790</td>\n      <td>76574228</td>\n      <td>14988</td>\n      <td>0</td>\n      <td>2074</td>\n      <td>1</td>\n      <td>1204.6</td>\n      <td>19.573165</td>\n    </tr>\n    <tr>\n      <th>1</th>\n      <td>2014</td>\n      <td>136.199454</td>\n      <td>1.129003</td>\n      <td>24.312500</td>\n      <td>57.611758</td>\n      <td>0.054474</td>\n      <td>75442589</td>\n      <td>17086</td>\n      <td>0</td>\n      <td>6122</td>\n      <td>4</td>\n      <td>913.0</td>\n      <td>22.647685</td>\n    </tr>\n    <tr>\n      <th>2</th>\n      <td>2013</td>\n      <td>104.343836</td>\n      <td>0.220877</td>\n      <td>24.746918</td>\n      <td>57.843579</td>\n      <td>0.060502</td>\n      <td>74327674</td>\n      <td>22171</td>\n      <td>0</td>\n      <td>12826</td>\n      <td>6</td>\n      <td>741.9</td>\n      <td>29.828728</td>\n    </tr>\n    <tr>\n      <th>3</th>\n      <td>2012</td>\n      <td>105.490411</td>\n      <td>0.870411</td>\n      <td>25.424886</td>\n      <td>56.199429</td>\n      <td>0.055639</td>\n      <td>73229235</td>\n      <td>18869</td>\n      <td>3</td>\n      <td>2501</td>\n      <td>5</td>\n      <td>636.1</td>\n      <td>25.767031</td>\n    </tr>\n    <tr>\n      <th>4</th>\n      <td>2011</td>\n      <td>102.942466</td>\n      <td>0.864027</td>\n      <td>26.176256</td>\n      <td>53.920776</td>\n      <td>0.204041</td>\n      <td>72147030</td>\n      <td>13075</td>\n      <td>1</td>\n      <td>2051</td>\n      <td>12</td>\n      <td>926.5</td>\n      <td>18.122714</td>\n    </tr>\n  </tbody>\n</table>\n</div>"
     },
     "metadata": {},
     "execution_count": 8
    }
   ],
   "source": [
    "tam_data = pd.read_csv('TAMIL_NADU.csv')\n",
    "tam_data.head()"
   ]
  },
  {
   "cell_type": "code",
   "execution_count": 9,
   "metadata": {},
   "outputs": [
    {
     "output_type": "execute_result",
     "data": {
      "text/plain": [
       "   Year         AQI         CO       Temp   Humidity  Precipitation  \\\n",
       "0  2015  308.276013  12.862882  27.936073  46.130251       0.063881   \n",
       "1  2014  323.836867  13.326556  27.604850  48.134677       0.067953   \n",
       "2  2013  283.153320  91.218036  27.779452  45.797146       0.056644   \n",
       "3  2012  622.550685  33.369493  28.118379  44.859817       0.062089   \n",
       "4  2011  519.804110  25.995068  28.867009  49.020890       0.275445   \n",
       "\n",
       "   Population  Malaria_Cases  Malaria_Death  Dengue_Cases  Kalaazar_Cases  \\\n",
       "0   212073536          55437              0           119              11   \n",
       "1   208939444          64606              0          1414              11   \n",
       "2   205851669          56968              0           342               5   \n",
       "3   202809526          47400              0           155              11   \n",
       "4   199812341          41891              0           960              14   \n",
       "\n",
       "   Rainfall  Malaria_Incidence  \n",
       "0     603.3          26.140461  \n",
       "1     701.8          30.920921  \n",
       "2    1041.4          27.674296  \n",
       "3     602.4          23.371683  \n",
       "4     781.2          20.965172  "
      ],
      "text/html": "<div>\n<style scoped>\n    .dataframe tbody tr th:only-of-type {\n        vertical-align: middle;\n    }\n\n    .dataframe tbody tr th {\n        vertical-align: top;\n    }\n\n    .dataframe thead th {\n        text-align: right;\n    }\n</style>\n<table border=\"1\" class=\"dataframe\">\n  <thead>\n    <tr style=\"text-align: right;\">\n      <th></th>\n      <th>Year</th>\n      <th>AQI</th>\n      <th>CO</th>\n      <th>Temp</th>\n      <th>Humidity</th>\n      <th>Precipitation</th>\n      <th>Population</th>\n      <th>Malaria_Cases</th>\n      <th>Malaria_Death</th>\n      <th>Dengue_Cases</th>\n      <th>Kalaazar_Cases</th>\n      <th>Rainfall</th>\n      <th>Malaria_Incidence</th>\n    </tr>\n  </thead>\n  <tbody>\n    <tr>\n      <th>0</th>\n      <td>2015</td>\n      <td>308.276013</td>\n      <td>12.862882</td>\n      <td>27.936073</td>\n      <td>46.130251</td>\n      <td>0.063881</td>\n      <td>212073536</td>\n      <td>55437</td>\n      <td>0</td>\n      <td>119</td>\n      <td>11</td>\n      <td>603.3</td>\n      <td>26.140461</td>\n    </tr>\n    <tr>\n      <th>1</th>\n      <td>2014</td>\n      <td>323.836867</td>\n      <td>13.326556</td>\n      <td>27.604850</td>\n      <td>48.134677</td>\n      <td>0.067953</td>\n      <td>208939444</td>\n      <td>64606</td>\n      <td>0</td>\n      <td>1414</td>\n      <td>11</td>\n      <td>701.8</td>\n      <td>30.920921</td>\n    </tr>\n    <tr>\n      <th>2</th>\n      <td>2013</td>\n      <td>283.153320</td>\n      <td>91.218036</td>\n      <td>27.779452</td>\n      <td>45.797146</td>\n      <td>0.056644</td>\n      <td>205851669</td>\n      <td>56968</td>\n      <td>0</td>\n      <td>342</td>\n      <td>5</td>\n      <td>1041.4</td>\n      <td>27.674296</td>\n    </tr>\n    <tr>\n      <th>3</th>\n      <td>2012</td>\n      <td>622.550685</td>\n      <td>33.369493</td>\n      <td>28.118379</td>\n      <td>44.859817</td>\n      <td>0.062089</td>\n      <td>202809526</td>\n      <td>47400</td>\n      <td>0</td>\n      <td>155</td>\n      <td>11</td>\n      <td>602.4</td>\n      <td>23.371683</td>\n    </tr>\n    <tr>\n      <th>4</th>\n      <td>2011</td>\n      <td>519.804110</td>\n      <td>25.995068</td>\n      <td>28.867009</td>\n      <td>49.020890</td>\n      <td>0.275445</td>\n      <td>199812341</td>\n      <td>41891</td>\n      <td>0</td>\n      <td>960</td>\n      <td>14</td>\n      <td>781.2</td>\n      <td>20.965172</td>\n    </tr>\n  </tbody>\n</table>\n</div>"
     },
     "metadata": {},
     "execution_count": 9
    }
   ],
   "source": [
    "utt_data = pd.read_csv('UTTAR_PD.csv')\n",
    "utt_data.head()"
   ]
  },
  {
   "cell_type": "code",
   "execution_count": null,
   "metadata": {},
   "outputs": [],
   "source": []
  }
 ]
}